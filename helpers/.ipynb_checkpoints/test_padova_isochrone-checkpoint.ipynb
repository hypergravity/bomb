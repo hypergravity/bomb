{
 "cells": [
  {
   "cell_type": "code",
   "execution_count": null,
   "metadata": {
    "collapsed": false
   },
   "outputs": [],
   "source": [
    "%pylab"
   ]
  },
  {
   "cell_type": "code",
   "execution_count": 8,
   "metadata": {
    "collapsed": false
   },
   "outputs": [],
   "source": [
    "from bopy.helpers.ezpadova import cmd\n",
    "from astropy.table import Table"
   ]
  },
  {
   "cell_type": "code",
   "execution_count": 36,
   "metadata": {
    "collapsed": false,
    "scrolled": false
   },
   "outputs": [
    {
     "name": "stdout",
     "output_type": "stream",
     "text": [
      "Interrogating http://stev.oapd.inaf.it...\n",
      "http://stev.oapd.inaf.it/cgi-bin/cmdbinary_frac=0.3&isoc_dlage=0.05&isoc_lage0=6.6&isoc_lage1=10.13&mag_lim=26&isoc_zeta=0.02&extinction_av=0&imf_file=tab_imf%2Fimf_chabrier_lognormal.dat&isoc_z0=0.0001&isoc_z1=0.03&kind_interp=1&kind_pulsecycle=0&output_evstage=1&binary_kind=1&kind_dust=0&kind_mag=2&dust_sourceC=AMCSIC15&isoc_dz=0.0001&binary_mrsup=1&submit_form=Submit&output_gzip=0&icm_lim=4&kind_cspecmag=aringer09&photsys_version=yang&kind_postagb=-1&eta_reimers=0.2&cmd_version=2.3&binary_mrinf=0.7&mag_res=0.1&isoc_val=0&kind_tpagb=3&lf_deltamag=0.2&isoc_age0=12700000000.0&dust_source=nodust&output_kind=0&lf_maginf=20&isoc_zeta0=0.008&isoc_age=10000000.0&lf_magsup=-20&isoc_kind=parsec_CAF09_v1.2S&dust_sourceM=dpmod60alox40&photsys_file=tab_mag_odfnew%2Ftab_mag_galexsloan.dat\n",
      "\n",
      " Error:\n",
      " Photometric system galexsloan still not available among NBC tables. Either use OBC or change to \n",
      "CMD 2.5\n"
     ]
    },
    {
     "ename": "RuntimeError",
     "evalue": "Server Response is incorrect",
     "output_type": "error",
     "traceback": [
      "\u001b[1;31m---------------------------------------------------------------------------\u001b[0m",
      "\u001b[1;31mRuntimeError\u001b[0m                              Traceback (most recent call last)",
      "\u001b[1;32m<ipython-input-36-0aca1729760c>\u001b[0m in \u001b[0;36m<module>\u001b[1;34m()\u001b[0m\n\u001b[1;32m----> 1\u001b[1;33m \u001b[0mr\u001b[0m \u001b[1;33m=\u001b[0m \u001b[0mcmd\u001b[0m\u001b[1;33m.\u001b[0m\u001b[0mget_one_isochrone\u001b[0m\u001b[1;33m(\u001b[0m\u001b[1;36m1e7\u001b[0m\u001b[1;33m,\u001b[0m \u001b[1;36m0.02\u001b[0m\u001b[1;33m,\u001b[0m \u001b[0mmodel\u001b[0m\u001b[1;33m=\u001b[0m\u001b[1;34m'parsec12s'\u001b[0m\u001b[1;33m,\u001b[0m \u001b[0mphot\u001b[0m\u001b[1;33m=\u001b[0m\u001b[1;34m'galexsloan'\u001b[0m\u001b[1;33m)\u001b[0m\u001b[1;33m\u001b[0m\u001b[0m\n\u001b[0m",
      "\u001b[1;32m/usr/local/lib/python2.7/dist-packages/bopy/helpers/ezpadova/cmd.pyc\u001b[0m in \u001b[0;36mget_one_isochrone\u001b[1;34m(age, metal, ret_table, **kwargs)\u001b[0m\n\u001b[0;32m    435\u001b[0m     \u001b[0md\u001b[0m\u001b[1;33m[\u001b[0m\u001b[1;34m'isoc_zeta'\u001b[0m\u001b[1;33m]\u001b[0m \u001b[1;33m=\u001b[0m \u001b[0mmetal\u001b[0m\u001b[1;33m\u001b[0m\u001b[0m\n\u001b[0;32m    436\u001b[0m \u001b[1;33m\u001b[0m\u001b[0m\n\u001b[1;32m--> 437\u001b[1;33m     \u001b[0mr\u001b[0m \u001b[1;33m=\u001b[0m \u001b[0m__query_website\u001b[0m\u001b[1;33m(\u001b[0m\u001b[0md\u001b[0m\u001b[1;33m)\u001b[0m\u001b[1;33m\u001b[0m\u001b[0m\n\u001b[0m\u001b[0;32m    438\u001b[0m     \u001b[1;32mif\u001b[0m \u001b[0mret_table\u001b[0m \u001b[1;32mis\u001b[0m \u001b[0mTrue\u001b[0m\u001b[1;33m:\u001b[0m\u001b[1;33m\u001b[0m\u001b[0m\n\u001b[0;32m    439\u001b[0m         \u001b[1;32mreturn\u001b[0m \u001b[0m__convert_to_Table\u001b[0m\u001b[1;33m(\u001b[0m\u001b[0mr\u001b[0m\u001b[1;33m,\u001b[0m \u001b[0md\u001b[0m\u001b[1;33m)\u001b[0m\u001b[1;33m\u001b[0m\u001b[0m\n",
      "\u001b[1;32m/usr/local/lib/python2.7/dist-packages/bopy/helpers/ezpadova/cmd.pyc\u001b[0m in \u001b[0;36m__query_website\u001b[1;34m(d)\u001b[0m\n\u001b[0;32m    356\u001b[0m             \u001b[0mp\u001b[0m\u001b[1;33m.\u001b[0m\u001b[0mfeed\u001b[0m\u001b[1;33m(\u001b[0m\u001b[0mc\u001b[0m\u001b[1;33m)\u001b[0m\u001b[1;33m\u001b[0m\u001b[0m\n\u001b[0;32m    357\u001b[0m             \u001b[1;32mprint\u001b[0m\u001b[1;33m(\u001b[0m\u001b[1;34m'\\n'\u001b[0m\u001b[1;33m,\u001b[0m \u001b[1;34m'\\n'\u001b[0m\u001b[1;33m.\u001b[0m\u001b[0mjoin\u001b[0m\u001b[1;33m(\u001b[0m\u001b[0mp\u001b[0m\u001b[1;33m.\u001b[0m\u001b[0mdata\u001b[0m\u001b[1;33m)\u001b[0m\u001b[1;33m.\u001b[0m\u001b[0mstrip\u001b[0m\u001b[1;33m(\u001b[0m\u001b[1;33m)\u001b[0m\u001b[1;33m)\u001b[0m\u001b[1;33m\u001b[0m\u001b[0m\n\u001b[1;32m--> 358\u001b[1;33m         \u001b[1;32mraise\u001b[0m \u001b[0mRuntimeError\u001b[0m\u001b[1;33m(\u001b[0m\u001b[1;34m'Server Response is incorrect'\u001b[0m\u001b[1;33m)\u001b[0m\u001b[1;33m\u001b[0m\u001b[0m\n\u001b[0m\u001b[0;32m    359\u001b[0m \u001b[1;33m\u001b[0m\u001b[0m\n\u001b[0;32m    360\u001b[0m \u001b[1;33m\u001b[0m\u001b[0m\n",
      "\u001b[1;31mRuntimeError\u001b[0m: Server Response is incorrect"
     ]
    }
   ],
   "source": [
    "r = cmd.get_one_isochrone(1e7, 0.02, model='parsec12s', phot='galexsloan')"
   ]
  },
  {
   "cell_type": "code",
   "execution_count": 34,
   "metadata": {
    "collapsed": false
   },
   "outputs": [
    {
     "data": {
      "text/html": [
       "&lt;Table length=330&gt;\n",
       "<table id=\"table140298974563472\">\n",
       "<thead><tr><th>Z</th><th>logageyr</th><th>M_ini</th><th>M_act</th><th>logLLo</th><th>logTe</th><th>logG</th><th>mbol</th><th>UX</th><th>BX</th><th>B</th><th>V</th><th>R</th><th>I</th><th>J</th><th>H</th><th>K</th><th>L</th><th>L_1</th><th>M</th><th>int_IMF</th><th>stage</th></tr></thead>\n",
       "<thead><tr><th>float64</th><th>float64</th><th>float64</th><th>float64</th><th>float64</th><th>float64</th><th>float64</th><th>float64</th><th>float64</th><th>float64</th><th>float64</th><th>float64</th><th>float64</th><th>float64</th><th>float64</th><th>float64</th><th>float64</th><th>float64</th><th>float64</th><th>float64</th><th>float64</th><th>int64</th></tr></thead>\n",
       "<tr><td>0.02</td><td>7.0</td><td>0.09</td><td>0.09</td><td>-2.0892</td><td>3.3855</td><td>3.9755</td><td>9.993</td><td>18.32</td><td>16.768</td><td>16.802</td><td>15.324</td><td>13.344</td><td>10.954</td><td>7.921</td><td>7.371</td><td>6.903</td><td>6.491</td><td>6.239</td><td>6.347</td><td>1.46765435</td><td>0</td></tr>\n",
       "<tr><td>0.02</td><td>7.0</td><td>0.0969503</td><td>0.097</td><td>-2.044</td><td>3.3903</td><td>3.9817</td><td>9.88</td><td>18.036</td><td>16.509</td><td>16.542</td><td>15.067</td><td>13.128</td><td>10.773</td><td>7.815</td><td>7.264</td><td>6.804</td><td>6.398</td><td>6.15</td><td>6.253</td><td>1.54013634</td><td>0</td></tr>\n",
       "<tr><td>0.02</td><td>7.0</td><td>0.1</td><td>0.1</td><td>-2.0249</td><td>3.3923</td><td>3.9842</td><td>9.832</td><td>17.915</td><td>16.399</td><td>16.432</td><td>14.958</td><td>13.036</td><td>10.696</td><td>7.771</td><td>7.219</td><td>6.762</td><td>6.358</td><td>6.113</td><td>6.214</td><td>1.57040203</td><td>0</td></tr>\n",
       "<tr><td>0.02</td><td>7.0</td><td>0.11629118</td><td>0.1163</td><td>-1.9324</td><td>3.4022</td><td>3.9969</td><td>9.601</td><td>17.326</td><td>15.863</td><td>15.895</td><td>14.426</td><td>12.589</td><td>10.322</td><td>7.556</td><td>7.001</td><td>6.56</td><td>6.168</td><td>5.932</td><td>6.023</td><td>1.71740127</td><td>0</td></tr>\n",
       "<tr><td>0.02</td><td>7.0</td><td>0.12960124</td><td>0.1296</td><td>-1.8631</td><td>3.4098</td><td>4.005</td><td>9.428</td><td>16.879</td><td>15.457</td><td>15.489</td><td>14.023</td><td>12.251</td><td>10.041</td><td>7.395</td><td>6.838</td><td>6.408</td><td>6.025</td><td>5.797</td><td>5.881</td><td>1.8221482</td><td>0</td></tr>\n",
       "<tr><td>0.02</td><td>7.0</td><td>0.13424799</td><td>0.1342</td><td>-1.8408</td><td>3.4123</td><td>4.0079</td><td>9.372</td><td>16.735</td><td>15.325</td><td>15.357</td><td>13.893</td><td>12.141</td><td>9.95</td><td>7.344</td><td>6.786</td><td>6.359</td><td>5.979</td><td>5.754</td><td>5.835</td><td>1.85590386</td><td>0</td></tr>\n",
       "<tr><td>0.02</td><td>7.0</td><td>0.1380267</td><td>0.138</td><td>-1.8237</td><td>3.414</td><td>4.0096</td><td>9.329</td><td>16.632</td><td>15.231</td><td>15.263</td><td>13.8</td><td>12.062</td><td>9.883</td><td>7.304</td><td>6.745</td><td>6.321</td><td>5.943</td><td>5.72</td><td>5.799</td><td>1.88236475</td><td>0</td></tr>\n",
       "<tr><td>0.02</td><td>7.0</td><td>0.14339884</td><td>0.1434</td><td>-1.8005</td><td>3.4165</td><td>4.0131</td><td>9.271</td><td>16.484</td><td>15.097</td><td>15.128</td><td>13.666</td><td>11.949</td><td>9.789</td><td>7.25</td><td>6.691</td><td>6.27</td><td>5.896</td><td>5.674</td><td>5.752</td><td>1.91856444</td><td>0</td></tr>\n",
       "<tr><td>0.02</td><td>7.0</td><td>0.15429063</td><td>0.1543</td><td>-1.7525</td><td>3.4219</td><td>4.0184</td><td>9.151</td><td>16.168</td><td>14.811</td><td>14.842</td><td>13.383</td><td>11.712</td><td>9.592</td><td>7.139</td><td>6.578</td><td>6.166</td><td>5.797</td><td>5.582</td><td>5.654</td><td>1.9873333</td><td>0</td></tr>\n",
       "<tr><td>0.02</td><td>7.0</td><td>0.16380985</td><td>0.1638</td><td>-1.7157</td><td>3.426</td><td>4.024</td><td>9.059</td><td>15.929</td><td>14.594</td><td>14.625</td><td>13.167</td><td>11.531</td><td>9.441</td><td>7.054</td><td>6.492</td><td>6.086</td><td>5.722</td><td>5.51</td><td>5.579</td><td>2.04289865</td><td>0</td></tr>\n",
       "<tr><td>...</td><td>...</td><td>...</td><td>...</td><td>...</td><td>...</td><td>...</td><td>...</td><td>...</td><td>...</td><td>...</td><td>...</td><td>...</td><td>...</td><td>...</td><td>...</td><td>...</td><td>...</td><td>...</td><td>...</td><td>...</td><td>...</td></tr>\n",
       "<tr><td>0.02</td><td>7.0</td><td>18.67256355</td><td>16.1737</td><td>4.9782</td><td>3.5515</td><td>-0.1734</td><td>-7.675</td><td>-1.374</td><td>-4.038</td><td>-3.987</td><td>-5.697</td><td>-6.715</td><td>-8.097</td><td>-9.379</td><td>-10.199</td><td>-10.457</td><td>-10.666</td><td>-10.685</td><td>-10.479</td><td>3.33584285</td><td>3</td></tr>\n",
       "<tr><td>0.02</td><td>7.0</td><td>18.78995895</td><td>16.205</td><td>5.0041</td><td>3.5475</td><td>-0.2146</td><td>-7.74</td><td>-1.39</td><td>-3.993</td><td>-3.943</td><td>-5.602</td><td>-6.64</td><td>-8.126</td><td>-9.454</td><td>-10.292</td><td>-10.551</td><td>-10.758</td><td>-10.778</td><td>-10.563</td><td>3.33585143</td><td>3</td></tr>\n",
       "<tr><td>0.02</td><td>7.0</td><td>18.83927536</td><td>16.2096</td><td>5.0209</td><td>3.545</td><td>-0.241</td><td>-7.782</td><td>-1.407</td><td>-3.959</td><td>-3.911</td><td>-5.538</td><td>-6.593</td><td>-8.142</td><td>-9.501</td><td>-10.351</td><td>-10.611</td><td>-10.816</td><td>-10.837</td><td>-10.616</td><td>3.33585501</td><td>3</td></tr>\n",
       "<tr><td>0.02</td><td>7.0</td><td>18.86189079</td><td>16.2108</td><td>5.0492</td><td>3.5409</td><td>-0.2857</td><td>-7.853</td><td>-1.438</td><td>-3.898</td><td>-3.851</td><td>-5.426</td><td>-6.513</td><td>-8.165</td><td>-9.582</td><td>-10.452</td><td>-10.713</td><td>-10.915</td><td>-10.936</td><td>-10.707</td><td>3.33585668</td><td>3</td></tr>\n",
       "<tr><td>0.02</td><td>7.0</td><td>18.86597633</td><td>16.2098</td><td>5.0861</td><td>3.5358</td><td>-0.343</td><td>-7.945</td><td>-1.494</td><td>-3.784</td><td>-3.741</td><td>-5.256</td><td>-6.409</td><td>-8.169</td><td>-9.687</td><td>-10.581</td><td>-10.843</td><td>-11.041</td><td>-11.065</td><td>-10.823</td><td>3.33585691</td><td>3</td></tr>\n",
       "<tr><td>0.02</td><td>7.0</td><td>18.87082672</td><td>16.2065</td><td>5.1271</td><td>3.5306</td><td>-0.405</td><td>-8.048</td><td>-1.573</td><td>-3.66</td><td>-3.621</td><td>-5.077</td><td>-6.308</td><td>-8.166</td><td>-9.804</td><td>-10.723</td><td>-10.986</td><td>-11.179</td><td>-11.205</td><td>-10.95</td><td>3.33585715</td><td>3</td></tr>\n",
       "<tr><td>0.02</td><td>7.0</td><td>18.8755703</td><td>16.2018</td><td>5.1569</td><td>3.5268</td><td>-0.4502</td><td>-8.122</td><td>-1.634</td><td>-3.532</td><td>-3.497</td><td>-4.92</td><td>-6.225</td><td>-8.132</td><td>-9.891</td><td>-10.827</td><td>-11.09</td><td>-11.279</td><td>-11.308</td><td>-11.044</td><td>3.33585763</td><td>3</td></tr>\n",
       "<tr><td>0.02</td><td>7.0</td><td>18.87856674</td><td>16.1981</td><td>5.1841</td><td>3.5234</td><td>-0.4911</td><td>-8.19</td><td>-1.694</td><td>-3.416</td><td>-3.384</td><td>-4.781</td><td>-6.154</td><td>-8.095</td><td>-9.97</td><td>-10.921</td><td>-11.184</td><td>-11.369</td><td>-11.401</td><td>-11.13</td><td>3.33585787</td><td>3</td></tr>\n",
       "<tr><td>0.02</td><td>7.0</td><td>18.88213921</td><td>16.1916</td><td>5.2233</td><td>3.5187</td><td>-0.5493</td><td>-8.288</td><td>-1.727</td><td>-3.276</td><td>-3.248</td><td>-4.631</td><td>-6.085</td><td>-8.065</td><td>-10.083</td><td>-11.045</td><td>-11.312</td><td>-11.495</td><td>-11.532</td><td>-11.257</td><td>3.33585811</td><td>3</td></tr>\n",
       "<tr><td>0.02</td><td>7.0</td><td>18.88639832</td><td>16.1972</td><td>5.2615</td><td>3.5144</td><td>-0.6043</td><td>-8.384</td><td>-1.76</td><td>-3.177</td><td>-3.153</td><td>-4.53</td><td>-6.039</td><td>-8.046</td><td>-10.189</td><td>-11.16</td><td>-11.43</td><td>-11.612</td><td>-11.657</td><td>-11.378</td><td>3.33585835</td><td>4</td></tr>\n",
       "</table>"
      ],
      "text/plain": [
       "<Table length=330>\n",
       "   Z    logageyr    M_ini     M_act  ...   L_1      M     int_IMF   stage\n",
       "float64 float64    float64   float64 ... float64 float64  float64   int64\n",
       "------- -------- ----------- ------- ... ------- ------- ---------- -----\n",
       "   0.02      7.0        0.09    0.09 ...   6.239   6.347 1.46765435     0\n",
       "   0.02      7.0   0.0969503   0.097 ...    6.15   6.253 1.54013634     0\n",
       "   0.02      7.0         0.1     0.1 ...   6.113   6.214 1.57040203     0\n",
       "   0.02      7.0  0.11629118  0.1163 ...   5.932   6.023 1.71740127     0\n",
       "   0.02      7.0  0.12960124  0.1296 ...   5.797   5.881  1.8221482     0\n",
       "   0.02      7.0  0.13424799  0.1342 ...   5.754   5.835 1.85590386     0\n",
       "   0.02      7.0   0.1380267   0.138 ...    5.72   5.799 1.88236475     0\n",
       "   0.02      7.0  0.14339884  0.1434 ...   5.674   5.752 1.91856444     0\n",
       "   0.02      7.0  0.15429063  0.1543 ...   5.582   5.654  1.9873333     0\n",
       "   0.02      7.0  0.16380985  0.1638 ...    5.51   5.579 2.04289865     0\n",
       "    ...      ...         ...     ... ...     ...     ...        ...   ...\n",
       "   0.02      7.0 18.67256355 16.1737 ... -10.685 -10.479 3.33584285     3\n",
       "   0.02      7.0 18.78995895  16.205 ... -10.778 -10.563 3.33585143     3\n",
       "   0.02      7.0 18.83927536 16.2096 ... -10.837 -10.616 3.33585501     3\n",
       "   0.02      7.0 18.86189079 16.2108 ... -10.936 -10.707 3.33585668     3\n",
       "   0.02      7.0 18.86597633 16.2098 ... -11.065 -10.823 3.33585691     3\n",
       "   0.02      7.0 18.87082672 16.2065 ... -11.205  -10.95 3.33585715     3\n",
       "   0.02      7.0  18.8755703 16.2018 ... -11.308 -11.044 3.33585763     3\n",
       "   0.02      7.0 18.87856674 16.1981 ... -11.401  -11.13 3.33585787     3\n",
       "   0.02      7.0 18.88213921 16.1916 ... -11.532 -11.257 3.33585811     3\n",
       "   0.02      7.0 18.88639832 16.1972 ... -11.657 -11.378 3.33585835     4"
      ]
     },
     "execution_count": 34,
     "metadata": {},
     "output_type": "execute_result"
    }
   ],
   "source": [
    "Table(r.data)"
   ]
  },
  {
   "cell_type": "code",
   "execution_count": null,
   "metadata": {
    "collapsed": false
   },
   "outputs": [],
   "source": [
    "r = IsochroneRequest(log_age=9.1, z=0.02, photsys='2mass_spitzer')"
   ]
  },
  {
   "cell_type": "code",
   "execution_count": null,
   "metadata": {
    "collapsed": false
   },
   "outputs": [],
   "source": [
    "r.isochrone"
   ]
  },
  {
   "cell_type": "code",
   "execution_count": null,
   "metadata": {
    "collapsed": false
   },
   "outputs": [],
   "source": [
    "r.isochrone"
   ]
  },
  {
   "cell_type": "code",
   "execution_count": null,
   "metadata": {
    "collapsed": true
   },
   "outputs": [],
   "source": []
  }
 ],
 "metadata": {
  "kernelspec": {
   "display_name": "Python 2",
   "language": "python",
   "name": "python2"
  },
  "language_info": {
   "codemirror_mode": {
    "name": "ipython",
    "version": 2
   },
   "file_extension": ".py",
   "mimetype": "text/x-python",
   "name": "python",
   "nbconvert_exporter": "python",
   "pygments_lexer": "ipython2",
   "version": "2.7.6"
  }
 },
 "nbformat": 4,
 "nbformat_minor": 0
}
