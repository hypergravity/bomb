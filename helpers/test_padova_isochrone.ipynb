{
 "cells": [
  {
   "cell_type": "code",
   "execution_count": 37,
   "metadata": {
    "collapsed": false
   },
   "outputs": [
    {
     "name": "stdout",
     "output_type": "stream",
     "text": [
      "Using matplotlib backend: Qt4Agg\n",
      "Populating the interactive namespace from numpy and matplotlib\n"
     ]
    }
   ],
   "source": [
    "%pylab"
   ]
  },
  {
   "cell_type": "code",
   "execution_count": 38,
   "metadata": {
    "collapsed": false
   },
   "outputs": [],
   "source": [
    "from bopy.helpers.ezpadova import cmd\n",
    "from astropy.table import Table"
   ]
  },
  {
   "cell_type": "code",
   "execution_count": 114,
   "metadata": {
    "collapsed": false,
    "scrolled": false
   },
   "outputs": [
    {
     "name": "stdout",
     "output_type": "stream",
     "text": [
      "Interrogating http://stev.oapd.inaf.it...\n",
      "Downloading data...http://stev.oapd.inaf.it/~lgirardi/tmp/output602962624122.dat\n"
     ]
    }
   ],
   "source": [
    "r = cmd.get_one_isochrone(1e7, 0.0001, isoc_kind='parsec_CAF09_v1.2S', phot='sloan')"
   ]
  },
  {
   "cell_type": "code",
   "execution_count": 111,
   "metadata": {
    "collapsed": false
   },
   "outputs": [
    {
     "data": {
      "text/html": [
       "&lt;Table length=330&gt;\n",
       "<table id=\"table140298785095376\">\n",
       "<thead><tr><th>Z</th><th>logageyr</th><th>M_ini</th><th>M_act</th><th>logLLo</th><th>logTe</th><th>logG</th><th>mbol</th><th>u</th><th>g</th><th>r</th><th>i</th><th>z</th><th>int_IMF</th></tr></thead>\n",
       "<thead><tr><th>float64</th><th>float64</th><th>float64</th><th>float64</th><th>float64</th><th>float64</th><th>float64</th><th>float64</th><th>float64</th><th>float64</th><th>float64</th><th>float64</th><th>float64</th><th>float64</th></tr></thead>\n",
       "<tr><td>0.02</td><td>7.0</td><td>0.09</td><td>0.09</td><td>-2.0892</td><td>3.3855</td><td>3.9755</td><td>9.993</td><td>19.298</td><td>16.077</td><td>14.656</td><td>12.061</td><td>10.331</td><td>1.46765435</td></tr>\n",
       "<tr><td>0.02</td><td>7.0</td><td>0.0969503</td><td>0.097</td><td>-2.044</td><td>3.3903</td><td>3.9817</td><td>9.88</td><td>19.011</td><td>15.824</td><td>14.407</td><td>11.864</td><td>10.183</td><td>1.54013634</td></tr>\n",
       "<tr><td>0.02</td><td>7.0</td><td>0.1</td><td>0.1</td><td>-2.0249</td><td>3.3923</td><td>3.9842</td><td>9.832</td><td>18.889</td><td>15.716</td><td>14.302</td><td>11.78</td><td>10.12</td><td>1.57040203</td></tr>\n",
       "<tr><td>0.02</td><td>7.0</td><td>0.11629118</td><td>0.1163</td><td>-1.9324</td><td>3.4022</td><td>3.9969</td><td>9.601</td><td>18.294</td><td>15.193</td><td>13.787</td><td>11.375</td><td>9.816</td><td>1.71740127</td></tr>\n",
       "<tr><td>0.02</td><td>7.0</td><td>0.12960124</td><td>0.1296</td><td>-1.8631</td><td>3.4098</td><td>4.005</td><td>9.428</td><td>17.841</td><td>14.798</td><td>13.397</td><td>11.069</td><td>9.587</td><td>1.8221482</td></tr>\n",
       "<tr><td>0.02</td><td>7.0</td><td>0.13424799</td><td>0.1342</td><td>-1.8408</td><td>3.4123</td><td>4.0079</td><td>9.372</td><td>17.695</td><td>14.67</td><td>13.27</td><td>10.969</td><td>9.513</td><td>1.85590386</td></tr>\n",
       "<tr><td>0.02</td><td>7.0</td><td>0.1380267</td><td>0.138</td><td>-1.8237</td><td>3.414</td><td>4.0096</td><td>9.329</td><td>17.59</td><td>14.578</td><td>13.18</td><td>10.897</td><td>9.458</td><td>1.88236475</td></tr>\n",
       "<tr><td>0.02</td><td>7.0</td><td>0.14339884</td><td>0.1434</td><td>-1.8005</td><td>3.4165</td><td>4.0131</td><td>9.271</td><td>17.441</td><td>14.447</td><td>13.049</td><td>10.794</td><td>9.382</td><td>1.91856444</td></tr>\n",
       "<tr><td>0.02</td><td>7.0</td><td>0.15429063</td><td>0.1543</td><td>-1.7525</td><td>3.4219</td><td>4.0184</td><td>9.151</td><td>17.121</td><td>14.169</td><td>12.775</td><td>10.579</td><td>9.222</td><td>1.9873333</td></tr>\n",
       "<tr><td>0.02</td><td>7.0</td><td>0.16380985</td><td>0.1638</td><td>-1.7157</td><td>3.426</td><td>4.024</td><td>9.059</td><td>16.878</td><td>13.957</td><td>12.565</td><td>10.415</td><td>9.1</td><td>2.04289865</td></tr>\n",
       "<tr><td>...</td><td>...</td><td>...</td><td>...</td><td>...</td><td>...</td><td>...</td><td>...</td><td>...</td><td>...</td><td>...</td><td>...</td><td>...</td><td>...</td></tr>\n",
       "<tr><td>0.02</td><td>7.0</td><td>18.67256355</td><td>16.1737</td><td>4.9782</td><td>3.5515</td><td>-0.1734</td><td>-7.675</td><td>-0.421</td><td>-4.781</td><td>-6.095</td><td>-7.394</td><td>-7.954</td><td>3.33584285</td></tr>\n",
       "<tr><td>0.02</td><td>7.0</td><td>18.78995895</td><td>16.205</td><td>5.0041</td><td>3.5475</td><td>-0.2146</td><td>-7.74</td><td>-0.434</td><td>-4.725</td><td>-5.962</td><td>-7.395</td><td>-8.003</td><td>3.33585143</td></tr>\n",
       "<tr><td>0.02</td><td>7.0</td><td>18.83927536</td><td>16.2096</td><td>5.0209</td><td>3.545</td><td>-0.241</td><td>-7.782</td><td>-0.45</td><td>-4.684</td><td>-5.88</td><td>-7.392</td><td>-8.033</td><td>3.33585501</td></tr>\n",
       "<tr><td>0.02</td><td>7.0</td><td>18.86189079</td><td>16.2108</td><td>5.0492</td><td>3.5409</td><td>-0.2857</td><td>-7.853</td><td>-0.479</td><td>-4.61</td><td>-5.742</td><td>-7.385</td><td>-8.081</td><td>3.33585668</td></tr>\n",
       "<tr><td>0.02</td><td>7.0</td><td>18.86597633</td><td>16.2098</td><td>5.0861</td><td>3.5358</td><td>-0.343</td><td>-7.945</td><td>-0.534</td><td>-4.474</td><td>-5.57</td><td>-7.354</td><td>-8.127</td><td>3.33585691</td></tr>\n",
       "<tr><td>0.02</td><td>7.0</td><td>18.87082672</td><td>16.2065</td><td>5.1271</td><td>3.5306</td><td>-0.405</td><td>-8.048</td><td>-0.612</td><td>-4.324</td><td>-5.407</td><td>-7.319</td><td>-8.173</td><td>3.33585715</td></tr>\n",
       "<tr><td>0.02</td><td>7.0</td><td>18.8755703</td><td>16.2018</td><td>5.1569</td><td>3.5268</td><td>-0.4502</td><td>-8.122</td><td>-0.673</td><td>-4.17</td><td>-5.295</td><td>-7.265</td><td>-8.184</td><td>3.33585763</td></tr>\n",
       "<tr><td>0.02</td><td>7.0</td><td>18.87856674</td><td>16.1981</td><td>5.1841</td><td>3.5234</td><td>-0.4911</td><td>-8.19</td><td>-0.735</td><td>-4.03</td><td>-5.204</td><td>-7.213</td><td>-8.189</td><td>3.33585787</td></tr>\n",
       "<tr><td>0.02</td><td>7.0</td><td>18.88213921</td><td>16.1916</td><td>5.2233</td><td>3.5187</td><td>-0.5493</td><td>-8.288</td><td>-0.769</td><td>-3.866</td><td>-5.112</td><td>-7.165</td><td>-8.209</td><td>3.33585811</td></tr>\n",
       "<tr><td>0.02</td><td>7.0</td><td>18.88639832</td><td>16.1972</td><td>5.2615</td><td>3.5144</td><td>-0.6043</td><td>-8.384</td><td>-0.805</td><td>-3.748</td><td>-5.048</td><td>-7.132</td><td>-8.233</td><td>3.33585835</td></tr>\n",
       "</table>"
      ],
      "text/plain": [
       "<Table length=330>\n",
       "   Z    logageyr    M_ini     M_act  ...    r       i       z     int_IMF  \n",
       "float64 float64    float64   float64 ... float64 float64 float64  float64  \n",
       "------- -------- ----------- ------- ... ------- ------- ------- ----------\n",
       "   0.02      7.0        0.09    0.09 ...  14.656  12.061  10.331 1.46765435\n",
       "   0.02      7.0   0.0969503   0.097 ...  14.407  11.864  10.183 1.54013634\n",
       "   0.02      7.0         0.1     0.1 ...  14.302   11.78   10.12 1.57040203\n",
       "   0.02      7.0  0.11629118  0.1163 ...  13.787  11.375   9.816 1.71740127\n",
       "   0.02      7.0  0.12960124  0.1296 ...  13.397  11.069   9.587  1.8221482\n",
       "   0.02      7.0  0.13424799  0.1342 ...   13.27  10.969   9.513 1.85590386\n",
       "   0.02      7.0   0.1380267   0.138 ...   13.18  10.897   9.458 1.88236475\n",
       "   0.02      7.0  0.14339884  0.1434 ...  13.049  10.794   9.382 1.91856444\n",
       "   0.02      7.0  0.15429063  0.1543 ...  12.775  10.579   9.222  1.9873333\n",
       "   0.02      7.0  0.16380985  0.1638 ...  12.565  10.415     9.1 2.04289865\n",
       "    ...      ...         ...     ... ...     ...     ...     ...        ...\n",
       "   0.02      7.0 18.67256355 16.1737 ...  -6.095  -7.394  -7.954 3.33584285\n",
       "   0.02      7.0 18.78995895  16.205 ...  -5.962  -7.395  -8.003 3.33585143\n",
       "   0.02      7.0 18.83927536 16.2096 ...   -5.88  -7.392  -8.033 3.33585501\n",
       "   0.02      7.0 18.86189079 16.2108 ...  -5.742  -7.385  -8.081 3.33585668\n",
       "   0.02      7.0 18.86597633 16.2098 ...   -5.57  -7.354  -8.127 3.33585691\n",
       "   0.02      7.0 18.87082672 16.2065 ...  -5.407  -7.319  -8.173 3.33585715\n",
       "   0.02      7.0  18.8755703 16.2018 ...  -5.295  -7.265  -8.184 3.33585763\n",
       "   0.02      7.0 18.87856674 16.1981 ...  -5.204  -7.213  -8.189 3.33585787\n",
       "   0.02      7.0 18.88213921 16.1916 ...  -5.112  -7.165  -8.209 3.33585811\n",
       "   0.02      7.0 18.88639832 16.1972 ...  -5.048  -7.132  -8.233 3.33585835"
      ]
     },
     "execution_count": 111,
     "metadata": {},
     "output_type": "execute_result"
    }
   ],
   "source": [
    "Table(r.data)"
   ]
  },
  {
   "cell_type": "code",
   "execution_count": null,
   "metadata": {
    "collapsed": true
   },
   "outputs": [],
   "source": []
  }
 ],
 "metadata": {
  "kernelspec": {
   "display_name": "Python 2",
   "language": "python",
   "name": "python2"
  },
  "language_info": {
   "codemirror_mode": {
    "name": "ipython",
    "version": 2
   },
   "file_extension": ".py",
   "mimetype": "text/x-python",
   "name": "python",
   "nbconvert_exporter": "python",
   "pygments_lexer": "ipython2",
   "version": "2.7.6"
  }
 },
 "nbformat": 4,
 "nbformat_minor": 0
}
